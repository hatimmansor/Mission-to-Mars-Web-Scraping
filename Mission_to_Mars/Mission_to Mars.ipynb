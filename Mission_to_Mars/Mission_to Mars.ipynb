{
 "cells": [
  {
   "cell_type": "markdown",
   "id": "4139abee",
   "metadata": {},
   "source": [
    "## Import the required libraries \n",
    " - Splinter\n",
    " - bs4\n",
    " - pandas\n",
    " - web driver manager"
   ]
  },
  {
   "cell_type": "code",
   "execution_count": 1,
   "id": "c9cdb4f1",
   "metadata": {},
   "outputs": [],
   "source": [
    "# Import Splinter, BeautifulSoup, and Pandas\n",
    "from splinter import Browser\n",
    "from bs4 import BeautifulSoup as soup\n",
    "import pandas as pd\n",
    "from webdriver_manager.chrome import ChromeDriverManager"
   ]
  },
  {
   "cell_type": "markdown",
   "id": "c1f7e950",
   "metadata": {},
   "source": [
    "### Set up splinter and connect to Mars news site"
   ]
  },
  {
   "cell_type": "code",
   "execution_count": 10,
   "id": "b499cc2a",
   "metadata": {},
   "outputs": [
    {
     "name": "stderr",
     "output_type": "stream",
     "text": [
      "\n",
      "\n",
      "====== WebDriver manager ======\n",
      "Current google-chrome version is 98.0.4758\n",
      "Get LATEST chromedriver version for 98.0.4758 google-chrome\n",
      "Driver [C:\\Users\\hatim\\.wdm\\drivers\\chromedriver\\win32\\98.0.4758.102\\chromedriver.exe] found in cache\n"
     ]
    },
    {
     "data": {
      "text/plain": [
       "True"
      ]
     },
     "execution_count": 10,
     "metadata": {},
     "output_type": "execute_result"
    }
   ],
   "source": [
    "browser = Browser('chrome', **{'executable_path': ChromeDriverManager().install()}, headless=False)\n",
    "\n",
    "# Visit the Mars news site\n",
    "\n",
    "browser.visit('https://redplanetscience.com/')\n",
    "# Optional delay for loading the page\n",
    "browser.is_element_present_by_css('div.list_text', wait_time=1)"
   ]
  },
  {
   "cell_type": "markdown",
   "id": "5a85cf9f",
   "metadata": {},
   "source": [
    "### get Soup object from the HTML browser"
   ]
  },
  {
   "cell_type": "code",
   "execution_count": 11,
   "id": "2af67c8d",
   "metadata": {},
   "outputs": [
    {
     "data": {
      "text/plain": [
       "<div class=\"list_text\">\n",
       "<div class=\"list_date\">February 28, 2022</div>\n",
       "<div class=\"content_title\">The Extraordinary Sample-Gathering System of NASA's Perseverance Mars Rover</div>\n",
       "<div class=\"article_teaser_body\">Two astronauts collected Moon rocks on Apollo 11. It will take three robotic systems working together to gather up the first Mars rock samples for return to Earth.</div>\n",
       "</div>"
      ]
     },
     "execution_count": 11,
     "metadata": {},
     "output_type": "execute_result"
    }
   ],
   "source": [
    "html = browser.html\n",
    "div_content = soup(browser.html, 'html.parser').select_one('div.list_text')\n",
    "div_content"
   ]
  },
  {
   "cell_type": "markdown",
   "id": "d8038385",
   "metadata": {},
   "source": [
    "### get news, title and paragraph\n"
   ]
  },
  {
   "cell_type": "code",
   "execution_count": 12,
   "id": "c5bff0a6",
   "metadata": {},
   "outputs": [],
   "source": [
    "title = div_content.find('div', class_='content_title').get_text()\n",
    "paragraph = div_content.find('div', class_='article_teaser_body').get_text()"
   ]
  },
  {
   "cell_type": "markdown",
   "id": "aff6ec03",
   "metadata": {},
   "source": [
    "### get JPL space Image "
   ]
  },
  {
   "cell_type": "code",
   "execution_count": 27,
   "id": "2c3f45fc",
   "metadata": {},
   "outputs": [],
   "source": [
    "browser.visit('https://spaceimages-mars.com')\n",
    "browser.is_element_present_by_css('div.list_text', wait_time=1)\n",
    "\n",
    "# find and click the image\n",
    "browser.find_by_tag('button')[1].click()"
   ]
  },
  {
   "cell_type": "code",
   "execution_count": 28,
   "id": "3e6a6f7e",
   "metadata": {},
   "outputs": [
    {
     "data": {
      "text/plain": [
       "'https://spaceimages-mars.com/image/featured/mars1.jpg'"
      ]
     },
     "execution_count": 28,
     "metadata": {},
     "output_type": "execute_result"
    }
   ],
   "source": [
    "#create  soup object\n",
    "img_content = soup(browser.html, 'html.parser')\n",
    "\n",
    "#find the image url\n",
    "dd=img_content.find('img', class_='fancybox-image').get('src')\n",
    "image_url=f'https://spaceimages-mars.com/{dd}'\n",
    "image_url"
   ]
  },
  {
   "cell_type": "markdown",
   "id": "e89e9d68",
   "metadata": {},
   "source": [
    "### getting Mars Facts table and save in data frame\n"
   ]
  },
  {
   "cell_type": "code",
   "execution_count": 36,
   "id": "ce0ae0af",
   "metadata": {},
   "outputs": [
    {
     "data": {
      "text/html": [
       "<div>\n",
       "<style scoped>\n",
       "    .dataframe tbody tr th:only-of-type {\n",
       "        vertical-align: middle;\n",
       "    }\n",
       "\n",
       "    .dataframe tbody tr th {\n",
       "        vertical-align: top;\n",
       "    }\n",
       "\n",
       "    .dataframe thead th {\n",
       "        text-align: right;\n",
       "    }\n",
       "</style>\n",
       "<table border=\"1\" class=\"dataframe\">\n",
       "  <thead>\n",
       "    <tr style=\"text-align: right;\">\n",
       "      <th></th>\n",
       "      <th>Mars</th>\n",
       "      <th>Earth</th>\n",
       "    </tr>\n",
       "    <tr>\n",
       "      <th>Description</th>\n",
       "      <th></th>\n",
       "      <th></th>\n",
       "    </tr>\n",
       "  </thead>\n",
       "  <tbody>\n",
       "    <tr>\n",
       "      <th>Mars - Earth Comparison</th>\n",
       "      <td>Mars</td>\n",
       "      <td>Earth</td>\n",
       "    </tr>\n",
       "    <tr>\n",
       "      <th>Diameter:</th>\n",
       "      <td>6,779 km</td>\n",
       "      <td>12,742 km</td>\n",
       "    </tr>\n",
       "    <tr>\n",
       "      <th>Mass:</th>\n",
       "      <td>6.39 × 10^23 kg</td>\n",
       "      <td>5.97 × 10^24 kg</td>\n",
       "    </tr>\n",
       "    <tr>\n",
       "      <th>Moons:</th>\n",
       "      <td>2</td>\n",
       "      <td>1</td>\n",
       "    </tr>\n",
       "    <tr>\n",
       "      <th>Distance from Sun:</th>\n",
       "      <td>227,943,824 km</td>\n",
       "      <td>149,598,262 km</td>\n",
       "    </tr>\n",
       "  </tbody>\n",
       "</table>\n",
       "</div>"
      ],
      "text/plain": [
       "                                    Mars            Earth\n",
       "Description                                              \n",
       "Mars - Earth Comparison             Mars            Earth\n",
       "Diameter:                       6,779 km        12,742 km\n",
       "Mass:                    6.39 × 10^23 kg  5.97 × 10^24 kg\n",
       "Moons:                                 2                1\n",
       "Distance from Sun:        227,943,824 km   149,598,262 km"
      ]
     },
     "execution_count": 36,
     "metadata": {},
     "output_type": "execute_result"
    }
   ],
   "source": [
    "df = pd.read_html('https://galaxyfacts-mars.com')[0]\n",
    "df.columns=['Description', 'Mars', 'Earth']\n",
    "df.set_index('Description', inplace=True)\n",
    "df.head()"
   ]
  },
  {
   "cell_type": "markdown",
   "id": "977c3084",
   "metadata": {},
   "source": [
    "### getting Mars Hemispheres"
   ]
  },
  {
   "cell_type": "code",
   "execution_count": 42,
   "id": "b2fb7140",
   "metadata": {},
   "outputs": [],
   "source": [
    "browser.visit('https://marshemispheres.com/')"
   ]
  },
  {
   "cell_type": "code",
   "execution_count": 43,
   "id": "e2bacf52",
   "metadata": {},
   "outputs": [
    {
     "data": {
      "text/plain": [
       "[{'img_url': 'https://marshemispheres.com/images/full.jpg',\n",
       "  'title': 'Cerberus Hemisphere Enhanced'},\n",
       " {'img_url': 'https://marshemispheres.com/images/schiaparelli_enhanced-full.jpg',\n",
       "  'title': 'Schiaparelli Hemisphere Enhanced'},\n",
       " {'img_url': 'https://marshemispheres.com/images/syrtis_major_enhanced-full.jpg',\n",
       "  'title': 'Syrtis Major Hemisphere Enhanced'},\n",
       " {'img_url': 'https://marshemispheres.com/images/valles_marineris_enhanced-full.jpg',\n",
       "  'title': 'Valles Marineris Hemisphere Enhanced'}]"
      ]
     },
     "execution_count": 43,
     "metadata": {},
     "output_type": "execute_result"
    }
   ],
   "source": [
    "# Create a list to hold the images and titles.\n",
    "hemisphere_image_urls = []\n",
    "\n",
    "# Get a list of all of the hemispheres\n",
    "links = browser.find_by_css('a.product-item img')\n",
    "\n",
    "# Next, loop through those links, click the link, find the sample anchor, return the href\n",
    "for i in range(len(links)):\n",
    "    hemisphere = {}\n",
    "    \n",
    "    # We have to find the elements on each loop \n",
    "    browser.find_by_css('a.product-item img')[i].click()\n",
    "    \n",
    "    # Next, we find the Sample image anchor tag and extract the href\n",
    "    hemisphere['img_url'] = (browser.links.find_by_text('Sample').first)['href']\n",
    "     \n",
    "    \n",
    "    # Get Hemisphere title\n",
    "    hemisphere['title'] = browser.find_by_css('h2.title').text\n",
    "    \n",
    "    # Append hemisphere object to list\n",
    "    hemisphere_image_urls.append(hemisphere)\n",
    "    \n",
    "    # Finally, we navigate backwards\n",
    "    browser.back()\n",
    "hemisphere_image_urls"
   ]
  },
  {
   "cell_type": "code",
   "execution_count": 44,
   "id": "3483b10d",
   "metadata": {},
   "outputs": [],
   "source": [
    "# close the browser\n",
    "browser.quit()"
   ]
  }
 ],
 "metadata": {
  "kernelspec": {
   "display_name": "Python 3",
   "language": "python",
   "name": "python3"
  },
  "language_info": {
   "codemirror_mode": {
    "name": "ipython",
    "version": 3
   },
   "file_extension": ".py",
   "mimetype": "text/x-python",
   "name": "python",
   "nbconvert_exporter": "python",
   "pygments_lexer": "ipython3",
   "version": "3.8.8"
  }
 },
 "nbformat": 4,
 "nbformat_minor": 5
}
